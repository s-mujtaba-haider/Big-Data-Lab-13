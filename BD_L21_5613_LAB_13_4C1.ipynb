{
  "nbformat": 4,
  "nbformat_minor": 0,
  "metadata": {
    "colab": {
      "provenance": []
    },
    "kernelspec": {
      "name": "python3",
      "display_name": "Python 3"
    },
    "language_info": {
      "name": "python"
    }
  },
  "cells": [
    {
      "cell_type": "code",
      "execution_count": null,
      "metadata": {
        "colab": {
          "base_uri": "https://localhost:8080/"
        },
        "id": "eropRcZvfWNY",
        "outputId": "965f937c-bac6-4f63-95b1-318b64685d78"
      },
      "outputs": [
        {
          "output_type": "stream",
          "name": "stdout",
          "text": [
            "Looking in indexes: https://pypi.org/simple, https://us-python.pkg.dev/colab-wheels/public/simple/\n",
            "Collecting pyspark\n",
            "  Downloading pyspark-3.4.0.tar.gz (310.8 MB)\n",
            "\u001b[2K     \u001b[90m━━━━━━━━━━━━━━━━━━━━━━━━━━━━━━━━━━━━━━━\u001b[0m \u001b[32m310.8/310.8 MB\u001b[0m \u001b[31m2.7 MB/s\u001b[0m eta \u001b[36m0:00:00\u001b[0m\n",
            "\u001b[?25h  Preparing metadata (setup.py) ... \u001b[?25l\u001b[?25hdone\n",
            "Requirement already satisfied: py4j==0.10.9.7 in /usr/local/lib/python3.10/dist-packages (from pyspark) (0.10.9.7)\n",
            "Building wheels for collected packages: pyspark\n",
            "  Building wheel for pyspark (setup.py) ... \u001b[?25l\u001b[?25hdone\n",
            "  Created wheel for pyspark: filename=pyspark-3.4.0-py2.py3-none-any.whl size=311317130 sha256=21ea06bf326c06ec727615316593992c787bc1b895c3925f716742919b1a8789\n",
            "  Stored in directory: /root/.cache/pip/wheels/7b/1b/4b/3363a1d04368e7ff0d408e57ff57966fcdf00583774e761327\n",
            "Successfully built pyspark\n",
            "Installing collected packages: pyspark\n",
            "Successfully installed pyspark-3.4.0\n"
          ]
        }
      ],
      "source": [
        "!pip install pyspark"
      ]
    },
    {
      "cell_type": "code",
      "source": [
        "from pyspark import SparkContext, SparkConf\n",
        "conf = SparkConf().setAppName(\"lab13\").setMaster(\"local[*]\")\n",
        "sc = SparkContext(conf=conf)"
      ],
      "metadata": {
        "id": "4eTVAWtOf1Yc"
      },
      "execution_count": null,
      "outputs": []
    },
    {
      "cell_type": "code",
      "source": [
        "from pyspark.sql import SparkSession\n",
        "\n",
        "spark = SparkSession.builder.getOrCreate()\n",
        "df=spark.read.csv(\"Movies.csv\")\n",
        "df.show()"
      ],
      "metadata": {
        "colab": {
          "base_uri": "https://localhost:8080/"
        },
        "id": "goXgJue9gA4y",
        "outputId": "a010b21c-ec58-4d12-fbf5-4d002168a7b4"
      },
      "execution_count": null,
      "outputs": [
        {
          "output_type": "stream",
          "name": "stdout",
          "text": [
            "+----+------+--------------------+-------+--------------------+-----------------+--------------------+----------+------+-------------------+\n",
            "| _c0|   _c1|                 _c2|    _c3|                 _c4|              _c5|                 _c6|       _c7|   _c8|                _c9|\n",
            "+----+------+--------------------+-------+--------------------+-----------------+--------------------+----------+------+-------------------+\n",
            "|Year|Length|               Title|  Genre|               Actor|          Actress|            Director|Popularity|Awards|              Image|\n",
            "|1990|   111|Tie Me Up! Tie Me...| Comedy|     BanderasAntonio|    AbrilVictoria|      AlmodóvarPedro|        68|    No|   NicholasCage.png|\n",
            "|1991|   113|          High Heels| Comedy|          BoséMiguel|    AbrilVictoria|      AlmodóvarPedro|        68|    No|   NicholasCage.png|\n",
            "|1983|   104|        Dead ZoneThe| Horror|   WalkenChristopher|      AdamsBrooke|     CronenbergDavid|        79|    No|   NicholasCage.png|\n",
            "|1979|   122|                Cuba| Action|         ConnerySean|      AdamsBrooke|       LesterRichard|         6|    No|    seanConnery.png|\n",
            "|1978|    94|      Days of Heaven|  Drama|         GereRichard|      AdamsBrooke|      MalickTerrence|        14|    No|   NicholasCage.png|\n",
            "|1983|   140|           Octopussy| Action|          MooreRoger|        AdamsMaud|            GlenJohn|        68|    No|   NicholasCage.png|\n",
            "|1984|   101|        Target Eagle| Action|        ConnorsChuck|        AdamsMaud|LomaJosé Antonio ...|        14|    No|   NicholasCage.png|\n",
            "|1989|    99|American Angels: ...|  Drama|     BergenRobert D.|       AdamsTrudy|    SebastianBeverly|        28|    No|   NicholasCage.png|\n",
            "|1985|   104|              Subway|  Drama|  LambertChristopher|   AdjaniIsabelle|           BessonLuc|         6|    No|   NicholasCage.png|\n",
            "|1990|   149|     Camille Claudel|  Drama|     DepardieuGérard|   AdjaniIsabelle|        NuyttenBruno|        32|    No|   NicholasCage.png|\n",
            "|1982|   188| Fanny and Alexander|  Drama|       AhlstedtBörje|AdolphsonKristina|       BergmanIngmar|        81|   Yes|        Bergman.png|\n",
            "|1982|   117|Tragedy of a Ridi...|  Drama|         TognazziUgo|       AimeeAnouk|  BertolucciBernardo|        17|    No|   NicholasCage.png|\n",
            "|1966|   103|     A Man & a Woman|  Drama|TrintignantJean-L...|       AimeeAnouk|       LelouchClaude|        46|   Yes|   NicholasCage.png|\n",
            "|1986|   112|A Man & a Woman: ...|  Drama|TrintignantJean-L...|       AimeeAnouk|       LelouchClaude|        49|    No|   NicholasCage.png|\n",
            "|1966|   103|Un Hombre y una M...|  Drama|TrintignantJean-L...|       AimeeAnouk|       LelouchClaude|         6|   Yes|   NicholasCage.png|\n",
            "|1985|   112|   Official StoryThe|  Drama|       AlterioHector|    AleandroNorma|          PuenzoLuiz|        39|   Yes|   NicholasCage.png|\n",
            "|1976|   150|Lindbergh Kidnapp...|  Drama|      HopkinsAnthony|  AlexanderDenise|           KulikBuzz|        51|    No| AnthonyHopkins.png|\n",
            "|1929|    84|           Blackmail|Mystery|         LongdenJohn|       AlgoodSara|     HitchcockAlfred|         2|    No|alfredHitchcock.png|\n",
            "|1963|   109|      Donovan's Reef| Comedy|           WayneJohn|   AllenElizabeth|            FordJohn|        62|    No|      johnWayne.png|\n",
            "+----+------+--------------------+-------+--------------------+-----------------+--------------------+----------+------+-------------------+\n",
            "only showing top 20 rows\n",
            "\n"
          ]
        }
      ]
    },
    {
      "cell_type": "markdown",
      "source": [
        "**1. Find the title, year, and director of action films that won an award.**"
      ],
      "metadata": {
        "id": "B4vtSa4IiQHS"
      }
    },
    {
      "cell_type": "code",
      "source": [
        "from pyspark.sql.functions import split, col\n",
        "q1=df.select(df._c0,df._c2,df._c6,df._c8)\n",
        "q1=q1.filter(q1._c8 == \"Yes\")\n",
        "q1.show()"
      ],
      "metadata": {
        "colab": {
          "base_uri": "https://localhost:8080/"
        },
        "id": "ObN7B77nhHAP",
        "outputId": "cb1ab73c-8cd6-42be-9d10-e676f7d8d90f"
      },
      "execution_count": null,
      "outputs": [
        {
          "output_type": "stream",
          "name": "stdout",
          "text": [
            "+----+--------------------+-------------------+---+\n",
            "| _c0|                 _c2|                _c6|_c8|\n",
            "+----+--------------------+-------------------+---+\n",
            "|1982| Fanny and Alexander|      BergmanIngmar|Yes|\n",
            "|1966|     A Man & a Woman|      LelouchClaude|Yes|\n",
            "|1966|Un Hombre y una M...|      LelouchClaude|Yes|\n",
            "|1985|   Official StoryThe|         PuenzoLuiz|Yes|\n",
            "|1957|   Wild Strawberries|      BergmanIngmar|Yes|\n",
            "|1962|Through a Glass D...|      BergmanIngmar|Yes|\n",
            "|1972|    Cries & Whispers|      BergmanIngmar|Yes|\n",
            "|1965|   Sound of MusicThe|         WiseRobert|Yes|\n",
            "|1987|     Babette's Feast|        AxelGabriel|Yes|\n",
            "|1974|Murder on the Ori...|        LumetSidney|Yes|\n",
            "|1980|     Elephant ManThe|         LynchDavid|Yes|\n",
            "|1982|E. T. The Extra-T...|    SpielbergSteven|Yes|\n",
            "|1990|              Misery|          ReinerRob|Yes|\n",
            "|1982|              Gandhi|AttenboroughRichard|Yes|\n",
            "|1978|       Autumn Sonata|      BergmanIngmar|Yes|\n",
            "|1944|            Gaslight|        CukorGeorge|Yes|\n",
            "|1982|A Woman Called Golda|         GibsonAlan|Yes|\n",
            "|1956|           Anastasia|      LitvakAnatole|Yes|\n",
            "|1969|       Cactus Flower|           SaksGene|Yes|\n",
            "|1984|             Amadeus|        FormanMilos|Yes|\n",
            "+----+--------------------+-------------------+---+\n",
            "only showing top 20 rows\n",
            "\n"
          ]
        }
      ]
    },
    {
      "cell_type": "markdown",
      "source": [
        "**2. For each award-winning actor, find the movies he acted it. Print the names of the movies and the\n",
        "director of the movie.**"
      ],
      "metadata": {
        "id": "VAi84uUniVGx"
      }
    },
    {
      "cell_type": "code",
      "source": [
        "q2=df.select(df._c2,df._c4,df._c6,df._c8)\n",
        "q2=q2.filter(q2._c8 == \"Yes\")\n",
        "q2.show()"
      ],
      "metadata": {
        "colab": {
          "base_uri": "https://localhost:8080/"
        },
        "id": "jYdcJxfWhKNe",
        "outputId": "6f9a59e5-de2f-4593-d266-899c9cc9383d"
      },
      "execution_count": null,
      "outputs": [
        {
          "output_type": "stream",
          "name": "stdout",
          "text": [
            "+--------------------+--------------------+-------------------+---+\n",
            "|                 _c2|                 _c4|                _c6|_c8|\n",
            "+--------------------+--------------------+-------------------+---+\n",
            "| Fanny and Alexander|       AhlstedtBörje|      BergmanIngmar|Yes|\n",
            "|     A Man & a Woman|TrintignantJean-L...|      LelouchClaude|Yes|\n",
            "|Un Hombre y una M...|TrintignantJean-L...|      LelouchClaude|Yes|\n",
            "|   Official StoryThe|       AlterioHector|         PuenzoLuiz|Yes|\n",
            "|   Wild Strawberries|      SjöströmVictor|      BergmanIngmar|Yes|\n",
            "|Through a Glass D...|   BjörnstrandGunnar|      BergmanIngmar|Yes|\n",
            "|    Cries & Whispers|     JosephsonErland|      BergmanIngmar|Yes|\n",
            "|   Sound of MusicThe|  PlummerChristopher|         WiseRobert|Yes|\n",
            "|     Babette's Feast| LaFontJean-Philippe|        AxelGabriel|Yes|\n",
            "|Murder on the Ori...|        BalsamMartin|        LumetSidney|Yes|\n",
            "|     Elephant ManThe|      HopkinsAnthony|         LynchDavid|Yes|\n",
            "|E. T. The Extra-T...|          WallaceDee|    SpielbergSteven|Yes|\n",
            "|              Misery|           CaanJames|          ReinerRob|Yes|\n",
            "|              Gandhi|         KingsleyBen|AttenboroughRichard|Yes|\n",
            "|       Autumn Sonata|         BjörkHalvar|      BergmanIngmar|Yes|\n",
            "|            Gaslight|        BoyerCharles|        CukorGeorge|Yes|\n",
            "|A Woman Called Golda|           BeattyNed|         GibsonAlan|Yes|\n",
            "|           Anastasia|        TamiroffAkim|      LitvakAnatole|Yes|\n",
            "|       Cactus Flower|       MatthauWalter|           SaksGene|Yes|\n",
            "|             Amadeus|    AbrahamF. Murray|        FormanMilos|Yes|\n",
            "+--------------------+--------------------+-------------------+---+\n",
            "only showing top 20 rows\n",
            "\n"
          ]
        }
      ]
    },
    {
      "cell_type": "markdown",
      "source": [
        "**3. Find the top 10 most popular movies that did not win an award.**"
      ],
      "metadata": {
        "id": "-u_Z-HuIg85i"
      }
    },
    {
      "cell_type": "code",
      "source": [
        "q3 = df.select(df._c2, df._c7, df._c8)\n",
        "q3 = q3.filter(q3._c8 == \"No\")\n",
        "q3 = q3.sort(q3._c7.desc()).show(10)"
      ],
      "metadata": {
        "colab": {
          "base_uri": "https://localhost:8080/"
        },
        "id": "wyqoWv73g_i0",
        "outputId": "4318ff6c-b128-4315-fd55-7ec037e66ede"
      },
      "execution_count": null,
      "outputs": [
        {
          "output_type": "stream",
          "name": "stdout",
          "text": [
            "+--------------------+---+---+\n",
            "|                 _c2|_c7|_c8|\n",
            "+--------------------+---+---+\n",
            "|        Tango & Cash|  9| No|\n",
            "|  Back to the Future|  9| No|\n",
            "|Masque of the Red...|  9| No|\n",
            "|Eighty-Four Chari...|  9| No|\n",
            "|        Judge Priest|  9| No|\n",
            "|           Dead-Bang|  9| No|\n",
            "|               Glitz|  9| No|\n",
            "|            Morituri|  9| No|\n",
            "|Naked Gun: From t...|  9| No|\n",
            "|        Boxing Babes|  9| No|\n",
            "+--------------------+---+---+\n",
            "only showing top 10 rows\n",
            "\n"
          ]
        }
      ]
    },
    {
      "cell_type": "markdown",
      "source": [
        "**4. Find the 10 least popular movies that were released before 1980.**"
      ],
      "metadata": {
        "id": "8_6hTJ3liktg"
      }
    },
    {
      "cell_type": "code",
      "source": [
        "q4 = df.select(df._c0, df._c2, df._c7)\n",
        "q4 = q4.filter(q4._c0 < 1980)\n",
        "q4 = q4.sort(q4._c7).show(10)"
      ],
      "metadata": {
        "colab": {
          "base_uri": "https://localhost:8080/"
        },
        "id": "S6B5CWygilKH",
        "outputId": "c76f2d58-ef68-4039-ce5c-c60e5a23211f"
      },
      "execution_count": null,
      "outputs": [
        {
          "output_type": "stream",
          "name": "stdout",
          "text": [
            "+----+------------------+----+\n",
            "| _c0|               _c2| _c7|\n",
            "+----+------------------+----+\n",
            "|1953|   White Lightning|null|\n",
            "|1927|      Drop KickThe|null|\n",
            "|1923|      Desert Rider|null|\n",
            "|1954| Bank on the Stars|null|\n",
            "|1968|           Shalako|   0|\n",
            "|1970|           Airport|   0|\n",
            "|1930|     Anna Christie|   0|\n",
            "|1976|Shout at the Devil|   0|\n",
            "|1953| Tales of Tomorrow|   0|\n",
            "|1958|        Indiscreet|   1|\n",
            "+----+------------------+----+\n",
            "only showing top 10 rows\n",
            "\n"
          ]
        }
      ]
    },
    {
      "cell_type": "markdown",
      "source": [
        "**5. Sort the movie’s release before 1990 by the title.**"
      ],
      "metadata": {
        "id": "UBNZIv9CirgI"
      }
    },
    {
      "cell_type": "code",
      "source": [
        "q5 = df.select(df._c0, df._c2)\n",
        "q5 = q5.filter(q5._c0 >= 1990)\n",
        "q5 = q5.sort(q5._c0).show()"
      ],
      "metadata": {
        "colab": {
          "base_uri": "https://localhost:8080/"
        },
        "id": "z2DgRMOZir0T",
        "outputId": "c24afac6-e0ee-4ca3-a03e-c6b053f20a04"
      },
      "execution_count": null,
      "outputs": [
        {
          "output_type": "stream",
          "name": "stdout",
          "text": [
            "+----+--------------------+\n",
            "| _c0|                 _c2|\n",
            "+----+--------------------+\n",
            "|1990|               Alice|\n",
            "|1990|    Funny about Love|\n",
            "|1990|           Snow Kill|\n",
            "|1990|     Camille Claudel|\n",
            "|1990|        Quick Change|\n",
            "|1990|              Misery|\n",
            "|1990|Court-Martial of ...|\n",
            "|1990|Tie Me Up! Tie Me...|\n",
            "|1990|       Wild at Heart|\n",
            "|1990|Twenty Four Hours...|\n",
            "|1990|Best of Candid Ca...|\n",
            "|1990|           RookieTHe|\n",
            "|1990|           NoviceThe|\n",
            "|1990| End of InnocenceThe|\n",
            "|1990|Wait Until Spring...|\n",
            "|1990|            PartyThe|\n",
            "|1990|            Meridian|\n",
            "|1990|White HunterBlack...|\n",
            "|1990|Bloodsucking Phar...|\n",
            "|1990|Bonfire of the Va...|\n",
            "+----+--------------------+\n",
            "only showing top 20 rows\n",
            "\n"
          ]
        }
      ]
    },
    {
      "cell_type": "markdown",
      "source": [
        "**6. Explore and preprocess the “wine” data set which was given you in previous lab, use spark\n",
        "dataframes and analyse it. Find the outliers or noise in the data and find the correlation between\n",
        "different features.**"
      ],
      "metadata": {
        "id": "EP-oCxehgnSB"
      }
    },
    {
      "cell_type": "code",
      "source": [
        "from pyspark.sql import SparkSession\n",
        "\n",
        "# create a SparkSession\n",
        "spark = SparkSession.builder.appName(\"Wine\").getOrCreate()\n",
        "\n",
        "# load the wine dataset as a DataFrame\n",
        "wine_df = spark.read.csv(\"wine_dataset.csv\", header=True, inferSchema=True)\n",
        "\n",
        "# drop the \"class\" column\n",
        "wine_df = wine_df.drop(\"class\")\n",
        "\n",
        "# show the summary statistics of each feature\n",
        "wine_df.describe().show()\n",
        "\n",
        "# visualize the dataset using a box plot\n",
        "import seaborn as sns\n",
        "import matplotlib.pyplot as plt\n",
        "\n",
        "fig, ax = plt.subplots(figsize=(12,6))\n",
        "sns.boxplot(data=wine_df.toPandas(), palette=\"Set3\", ax=ax)\n",
        "plt.title(\"Box plot of Wine Dataset\")\n",
        "plt.show()\n",
        "\n",
        "# remove the outliers or noise from the dataset\n",
        "# we can use the IQR method to remove the outliers from the dataset\n",
        "from pyspark.sql.functions import col, expr\n",
        "\n",
        "# calculate the quartiles and IQR for each feature\n",
        "quartiles = wine_df.approxQuantile(list(wine_df.columns), [0.25, 0.75], 0.05)\n",
        "iqr_values = [float(quartiles[1][i] - quartiles[0][i]) for i in range(len(wine_df.columns))]\n",
        "\n",
        "# apply the IQR method to remove the outliers from the dataset\n",
        "outliers_removed_df = wine_df.select(*[(col(c) >= expr(str(q[0] - 1.5*iqr)) ) & (col(c) <= expr(str(q[1] + 1.5*iqr))) for i, (c, q, iqr) in enumerate(zip(list(wine_df.columns), quartiles, iqr_values))]).dropna()\n",
        "\n",
        "# show the summary statistics of each feature after removing the outliers or noise\n",
        "outliers_removed_df.describe().show()\n",
        "\n",
        "# find the correlation between different features\n",
        "correlation_matrix = outliers_removed_df.corr()\n",
        "correlation_matrix.show()\n"
      ],
      "metadata": {
        "id": "d8dM5V4tgofG",
        "outputId": "3a3da5e4-f0b6-4c17-d8a5-77a3a3fa7d99",
        "colab": {
          "base_uri": "https://localhost:8080/",
          "height": 997
        }
      },
      "execution_count": null,
      "outputs": [
        {
          "output_type": "stream",
          "name": "stdout",
          "text": [
            "+-------+------------------+------------------+------------------+-----------------+------------------+------------------+------------------+--------------------+------------------+-----------------+-------------------+------------------+-----------------+\n",
            "|summary|           Alcohol|        Malic_Acid|               Ash|     Ash_Alcanity|         Magnesium|     Total_Phenols|        Flavanoids|Nonflavanoid_Phenols|   Proanthocyanins|  Color_Intensity|                Hue|             OD280|          Proline|\n",
            "+-------+------------------+------------------+------------------+-----------------+------------------+------------------+------------------+--------------------+------------------+-----------------+-------------------+------------------+-----------------+\n",
            "|  count|               178|               178|               178|              178|               178|               178|               178|                 178|               178|              178|                178|               178|              178|\n",
            "|   mean|13.000617977528083| 2.336348314606741|2.3665168539325854|19.49494382022472| 99.74157303370787| 2.295112359550562|2.0292696629213474| 0.36185393258426973|1.5908988764044953|5.058089882022473| 0.9574494382022468|2.6116853932584254|746.8932584269663|\n",
            "| stddev| 0.811826538005858|1.1171460976144625|0.2743440090608148|3.339563767173504|14.282483515295652|0.6258510488339892|0.9988586850169471| 0.12445334029667941|0.5723588626747612|2.318285871822413|0.22857156582982324|0.7099904287650503|314.9074742768492|\n",
            "|    min|             11.03|              0.74|              1.36|             10.6|                70|              0.98|              0.34|                0.13|              0.41|             1.28|               0.48|              1.27|              278|\n",
            "|    max|             14.83|               5.8|              3.23|             30.0|               162|              3.88|              5.08|                0.66|              3.58|             13.0|               1.71|               4.0|             1680|\n",
            "+-------+------------------+------------------+------------------+-----------------+------------------+------------------+------------------+--------------------+------------------+-----------------+-------------------+------------------+-----------------+\n",
            "\n"
          ]
        },
        {
          "output_type": "display_data",
          "data": {
            "text/plain": [
              "<Figure size 1200x600 with 1 Axes>"
            ],
            "image/png": "[encoded data removed]"
          },
          "metadata": {}
        },
        {
          "output_type": "error",
          "ename": "IndexError",
          "evalue": "ignored",
          "traceback": [
            "\u001b[0;31m---------------------------------------------------------------------------\u001b[0m",
            "\u001b[0;31mIndexError\u001b[0m                                Traceback (most recent call last)",
            "\u001b[0;32m<ipython-input-7-6a951f697d70>\u001b[0m in \u001b[0;36m<cell line: 30>\u001b[0;34m()\u001b[0m\n\u001b[1;32m     28\u001b[0m \u001b[0;31m# calculate the quartiles and IQR for each feature\u001b[0m\u001b[0;34m\u001b[0m\u001b[0;34m\u001b[0m\u001b[0m\n\u001b[1;32m     29\u001b[0m \u001b[0mquartiles\u001b[0m \u001b[0;34m=\u001b[0m \u001b[0mwine_df\u001b[0m\u001b[0;34m.\u001b[0m\u001b[0mapproxQuantile\u001b[0m\u001b[0;34m(\u001b[0m\u001b[0mlist\u001b[0m\u001b[0;34m(\u001b[0m\u001b[0mwine_df\u001b[0m\u001b[0;34m.\u001b[0m\u001b[0mcolumns\u001b[0m\u001b[0;34m)\u001b[0m\u001b[0;34m,\u001b[0m \u001b[0;34m[\u001b[0m\u001b[0;36m0.25\u001b[0m\u001b[0;34m,\u001b[0m \u001b[0;36m0.75\u001b[0m\u001b[0;34m]\u001b[0m\u001b[0;34m,\u001b[0m \u001b[0;36m0.05\u001b[0m\u001b[0;34m)\u001b[0m\u001b[0;34m\u001b[0m\u001b[0;34m\u001b[0m\u001b[0m\n\u001b[0;32m---> 30\u001b[0;31m \u001b[0miqr_values\u001b[0m \u001b[0;34m=\u001b[0m \u001b[0;34m[\u001b[0m\u001b[0mfloat\u001b[0m\u001b[0;34m(\u001b[0m\u001b[0mquartiles\u001b[0m\u001b[0;34m[\u001b[0m\u001b[0;36m1\u001b[0m\u001b[0;34m]\u001b[0m\u001b[0;34m[\u001b[0m\u001b[0mi\u001b[0m\u001b[0;34m]\u001b[0m \u001b[0;34m-\u001b[0m \u001b[0mquartiles\u001b[0m\u001b[0;34m[\u001b[0m\u001b[0;36m0\u001b[0m\u001b[0;34m]\u001b[0m\u001b[0;34m[\u001b[0m\u001b[0mi\u001b[0m\u001b[0;34m]\u001b[0m\u001b[0;34m)\u001b[0m \u001b[0;32mfor\u001b[0m \u001b[0mi\u001b[0m \u001b[0;32min\u001b[0m \u001b[0mrange\u001b[0m\u001b[0;34m(\u001b[0m\u001b[0mlen\u001b[0m\u001b[0;34m(\u001b[0m\u001b[0mwine_df\u001b[0m\u001b[0;34m.\u001b[0m\u001b[0mcolumns\u001b[0m\u001b[0;34m)\u001b[0m\u001b[0;34m)\u001b[0m\u001b[0;34m]\u001b[0m\u001b[0;34m\u001b[0m\u001b[0;34m\u001b[0m\u001b[0m\n\u001b[0m\u001b[1;32m     31\u001b[0m \u001b[0;34m\u001b[0m\u001b[0m\n\u001b[1;32m     32\u001b[0m \u001b[0;31m# apply the IQR method to remove the outliers from the dataset\u001b[0m\u001b[0;34m\u001b[0m\u001b[0;34m\u001b[0m\u001b[0m\n",
            "\u001b[0;32m<ipython-input-7-6a951f697d70>\u001b[0m in \u001b[0;36m<listcomp>\u001b[0;34m(.0)\u001b[0m\n\u001b[1;32m     28\u001b[0m \u001b[0;31m# calculate the quartiles and IQR for each feature\u001b[0m\u001b[0;34m\u001b[0m\u001b[0;34m\u001b[0m\u001b[0m\n\u001b[1;32m     29\u001b[0m \u001b[0mquartiles\u001b[0m \u001b[0;34m=\u001b[0m \u001b[0mwine_df\u001b[0m\u001b[0;34m.\u001b[0m\u001b[0mapproxQuantile\u001b[0m\u001b[0;34m(\u001b[0m\u001b[0mlist\u001b[0m\u001b[0;34m(\u001b[0m\u001b[0mwine_df\u001b[0m\u001b[0;34m.\u001b[0m\u001b[0mcolumns\u001b[0m\u001b[0;34m)\u001b[0m\u001b[0;34m,\u001b[0m \u001b[0;34m[\u001b[0m\u001b[0;36m0.25\u001b[0m\u001b[0;34m,\u001b[0m \u001b[0;36m0.75\u001b[0m\u001b[0;34m]\u001b[0m\u001b[0;34m,\u001b[0m \u001b[0;36m0.05\u001b[0m\u001b[0;34m)\u001b[0m\u001b[0;34m\u001b[0m\u001b[0;34m\u001b[0m\u001b[0m\n\u001b[0;32m---> 30\u001b[0;31m \u001b[0miqr_values\u001b[0m \u001b[0;34m=\u001b[0m \u001b[0;34m[\u001b[0m\u001b[0mfloat\u001b[0m\u001b[0;34m(\u001b[0m\u001b[0mquartiles\u001b[0m\u001b[0;34m[\u001b[0m\u001b[0;36m1\u001b[0m\u001b[0;34m]\u001b[0m\u001b[0;34m[\u001b[0m\u001b[0mi\u001b[0m\u001b[0;34m]\u001b[0m \u001b[0;34m-\u001b[0m \u001b[0mquartiles\u001b[0m\u001b[0;34m[\u001b[0m\u001b[0;36m0\u001b[0m\u001b[0;34m]\u001b[0m\u001b[0;34m[\u001b[0m\u001b[0mi\u001b[0m\u001b[0;34m]\u001b[0m\u001b[0;34m)\u001b[0m \u001b[0;32mfor\u001b[0m \u001b[0mi\u001b[0m \u001b[0;32min\u001b[0m \u001b[0mrange\u001b[0m\u001b[0;34m(\u001b[0m\u001b[0mlen\u001b[0m\u001b[0;34m(\u001b[0m\u001b[0mwine_df\u001b[0m\u001b[0;34m.\u001b[0m\u001b[0mcolumns\u001b[0m\u001b[0;34m)\u001b[0m\u001b[0;34m)\u001b[0m\u001b[0;34m]\u001b[0m\u001b[0;34m\u001b[0m\u001b[0;34m\u001b[0m\u001b[0m\n\u001b[0m\u001b[1;32m     31\u001b[0m \u001b[0;34m\u001b[0m\u001b[0m\n\u001b[1;32m     32\u001b[0m \u001b[0;31m# apply the IQR method to remove the outliers from the dataset\u001b[0m\u001b[0;34m\u001b[0m\u001b[0;34m\u001b[0m\u001b[0m\n",
            "\u001b[0;31mIndexError\u001b[0m: list index out of range"
          ]
        }
      ]
    },
    {
      "cell_type": "markdown",
      "source": [
        "**7. Implement K-means algorithm on Wine dataset by yourself using rdds.**"
      ],
      "metadata": {
        "id": "jzv5HUP-jApr"
      }
    },
    {
      "cell_type": "code",
      "source": [
        "from pyspark.sql import SparkSession\n",
        "from pyspark.ml.clustering import KMeans, BisectingKMeans\n",
        "from pyspark.ml.feature import VectorAssembler, StandardScaler\n",
        "from pyspark.ml.evaluation import ClusteringEvaluator\n",
        "\n",
        "# create a SparkSession\n",
        "spark = SparkSession.builder.appName(\"Clustering\").getOrCreate()\n",
        "\n",
        "# load the dataset as a DataFrame\n",
        "dataset = spark.read.csv(\"wine_dataset.csv\", header=True, inferSchema=True)\n",
        "\n",
        "# select the features to be used for clustering and scale them using the StandardScaler\n",
        "feature_cols = dataset.columns[1:]\n",
        "assembler = VectorAssembler(inputCols=feature_cols, outputCol=\"features\")\n",
        "scaled_data = StandardScaler(inputCol=\"features\", outputCol=\"scaled_features\", withStd=True, withMean=True).fit(assembler.transform(dataset)).transform(assembler.transform(dataset)).select(\"scaled_features\")\n",
        "\n",
        "# split the dataset into training and testing sets\n",
        "(training_data, testing_data) = scaled_data.randomSplit([0.7, 0.3])\n",
        "\n",
        "# train the K-means clustering model on the training set\n",
        "kmeans = KMeans(featuresCol=\"scaled_features\", predictionCol=\"prediction\", k=3, maxIter=20, seed=1)\n",
        "kmeans_model = kmeans.fit(training_data)\n",
        "\n",
        "# evaluate the K-means clustering model on the testing set using the Silhouette score\n",
        "evaluator = ClusteringEvaluator(featuresCol=\"scaled_features\", predictionCol=\"prediction\")\n",
        "silhouette_score = evaluator.evaluate(kmeans_model.transform(testing_data))\n",
        "print(\"Silhouette score for K-means clustering:\", silhouette_score)\n",
        "\n",
        "# train the Bisecting K-means clustering model on the training set\n",
        "bisecting_kmeans = BisectingKMeans(featuresCol=\"scaled_features\", predictionCol=\"prediction\", k=3, maxIter=20, seed=1)\n",
        "bisecting_kmeans_model = bisecting_kmeans.fit(training_data)\n",
        "\n",
        "# evaluate the Bisecting K-means clustering model on the testing set using the Silhouette score\n",
        "silhouette_score = evaluator.evaluate(bisecting_kmeans_model.transform(testing_data))\n",
        "print(\"Silhouette score for Bisecting K-means clustering:\", silhouette_score)\n"
      ],
      "metadata": {
        "id": "7Y3DFtQxjBD_",
        "outputId": "d5ce721e-0733-43e2-e8eb-34c7d5cb3920",
        "colab": {
          "base_uri": "https://localhost:8080/"
        }
      },
      "execution_count": null,
      "outputs": [
        {
          "output_type": "stream",
          "name": "stdout",
          "text": [
            "Silhouette score for K-means clustering: 0.4691203782546633\n",
            "Silhouette score for Bisecting K-means clustering: 0.43633591797073884\n"
          ]
        }
      ]
    }
  ]
}